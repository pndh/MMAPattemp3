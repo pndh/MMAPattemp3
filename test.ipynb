{
 "cells": [
  {
   "cell_type": "code",
   "execution_count": null,
   "id": "5e8cc20b",
   "metadata": {},
   "outputs": [],
   "source": [
    "from torch.utils.data import DataLoader\n",
    "from dataset import UNI_HER2ST\n",
    "\n",
    "dataset = UNI_HER2ST(train=True, fold=5)\n",
    "train_loader = DataLoader(dataset, batch_size=8, num_workers=2, shuffle=True)"
   ]
  },
  {
   "cell_type": "code",
   "execution_count": null,
   "id": "fb6c9e4e",
   "metadata": {},
   "outputs": [],
   "source": [
    "# Lấy batch đầu tiên từ dataloader\n",
    "p0, p1, p2, _, exp = next(iter(train_loader))"
   ]
  },
  {
   "cell_type": "code",
   "execution_count": null,
   "id": "1c4332d8",
   "metadata": {},
   "outputs": [],
   "source": [
    "import matplotlib.pyplot as plt\n",
    "\n",
    "# Hàm hiển thị ảnh sau khi unnormalize\n",
    "def show_tensor_image(tensor, title=\"\"):\n",
    "    print(tensor.shape)\n",
    "    img = tensor.permute(1, 2, 0).cpu().numpy()\n",
    "    print(img.max(), img.min(), img.shape)\n",
    "    plt.imshow(img)\n",
    "    plt.title(title)\n",
    "    plt.axis(\"off\")"
   ]
  },
  {
   "cell_type": "code",
   "execution_count": null,
   "id": "b6f3d748",
   "metadata": {},
   "outputs": [],
   "source": [
    "# Hiển thị ảnh đầu tiên trong batch của mỗi tensor\n",
    "plt.figure(figsize=(12, 4))\n",
    "\n",
    "plt.subplot(1, 3, 1)\n",
    "show_tensor_image(p0[5], title='p0')\n",
    "\n",
    "plt.subplot(1, 3, 2)\n",
    "show_tensor_image(p1[5], title='p1')\n",
    "\n",
    "plt.subplot(1, 3, 3)\n",
    "show_tensor_image(p2[5], title='p2')\n",
    "\n",
    "plt.tight_layout()\n",
    "plt.show()\n",
    "\n",
    "p0.shape, exp[1].shape, _[1]"
   ]
  }
 ],
 "metadata": {
  "kernelspec": {
   "display_name": "thaind",
   "language": "python",
   "name": "python3"
  },
  "language_info": {
   "codemirror_mode": {
    "name": "ipython",
    "version": 3
   },
   "file_extension": ".py",
   "mimetype": "text/x-python",
   "name": "python",
   "nbconvert_exporter": "python",
   "pygments_lexer": "ipython3",
   "version": "3.11.13"
  }
 },
 "nbformat": 4,
 "nbformat_minor": 5
}
